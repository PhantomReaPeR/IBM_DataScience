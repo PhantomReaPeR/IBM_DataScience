{
 "cells": [
  {
   "cell_type": "markdown",
   "id": "48c26ea5",
   "metadata": {
    "papermill": {
     "duration": 0.004311,
     "end_time": "2023-09-10T20:39:50.985256",
     "exception": false,
     "start_time": "2023-09-10T20:39:50.980945",
     "status": "completed"
    },
    "tags": []
   },
   "source": [
    "# Data Science Tools and Ecosystem"
   ]
  },
  {
   "cell_type": "markdown",
   "id": "acecb58e",
   "metadata": {
    "papermill": {
     "duration": 0.003497,
     "end_time": "2023-09-10T20:39:50.992694",
     "exception": false,
     "start_time": "2023-09-10T20:39:50.989197",
     "status": "completed"
    },
    "tags": []
   },
   "source": [
    "In this notebook, Data Science Tools and Ecosystem are summarized."
   ]
  },
  {
   "cell_type": "markdown",
   "id": "549ccbf6",
   "metadata": {
    "papermill": {
     "duration": 0.003265,
     "end_time": "2023-09-10T20:39:50.999449",
     "exception": false,
     "start_time": "2023-09-10T20:39:50.996184",
     "status": "completed"
    },
    "tags": []
   },
   "source": [
    "Some of the popular languages that Data Scientists use are:\n",
    "1. Python\n",
    "2. R\n",
    "3. SQL\n",
    "4. C++\n",
    "5. Java"
   ]
  },
  {
   "cell_type": "markdown",
   "id": "bdce2a0d",
   "metadata": {
    "papermill": {
     "duration": 0.003265,
     "end_time": "2023-09-10T20:39:51.006074",
     "exception": false,
     "start_time": "2023-09-10T20:39:51.002809",
     "status": "completed"
    },
    "tags": []
   },
   "source": [
    "Some of the commonly used libraries used by Data Scientists include:\n",
    "1. Pandas\n",
    "2. Matplotlib\n",
    "3. Keras\n",
    "4. SciKit-Learn\n",
    "5. Numpy\n",
    "6. Tensorflow"
   ]
  },
  {
   "cell_type": "markdown",
   "id": "4dc4fb08",
   "metadata": {
    "papermill": {
     "duration": 0.003165,
     "end_time": "2023-09-10T20:39:51.013096",
     "exception": false,
     "start_time": "2023-09-10T20:39:51.009931",
     "status": "completed"
    },
    "tags": []
   },
   "source": [
    "|Data Science Tools|\n",
    "|---|\n",
    "|SAS|\n",
    "|Apache Hadoop|\n",
    "|TensorFlow|"
   ]
  },
  {
   "cell_type": "markdown",
   "id": "e1cc4cd9",
   "metadata": {
    "papermill": {
     "duration": 0.003188,
     "end_time": "2023-09-10T20:39:51.019768",
     "exception": false,
     "start_time": "2023-09-10T20:39:51.016580",
     "status": "completed"
    },
    "tags": []
   },
   "source": [
    "### Below are a few examples of evaluating arithmetic expressions in Python"
   ]
  },
  {
   "cell_type": "code",
   "execution_count": 1,
   "id": "bbbb4c81",
   "metadata": {
    "execution": {
     "iopub.execute_input": "2023-09-10T20:39:51.028897Z",
     "iopub.status.busy": "2023-09-10T20:39:51.028534Z",
     "iopub.status.idle": "2023-09-10T20:39:51.041566Z",
     "shell.execute_reply": "2023-09-10T20:39:51.039777Z"
    },
    "papermill": {
     "duration": 0.020871,
     "end_time": "2023-09-10T20:39:51.044259",
     "exception": false,
     "start_time": "2023-09-10T20:39:51.023388",
     "status": "completed"
    },
    "tags": []
   },
   "outputs": [
    {
     "data": {
      "text/plain": [
       "17"
      ]
     },
     "execution_count": 1,
     "metadata": {},
     "output_type": "execute_result"
    }
   ],
   "source": [
    "#This a simple arithmetic expression to mutiply then add integers\n",
    "(3*4)+5"
   ]
  },
  {
   "cell_type": "code",
   "execution_count": 2,
   "id": "5167ade0",
   "metadata": {
    "execution": {
     "iopub.execute_input": "2023-09-10T20:39:51.055126Z",
     "iopub.status.busy": "2023-09-10T20:39:51.054737Z",
     "iopub.status.idle": "2023-09-10T20:39:51.062796Z",
     "shell.execute_reply": "2023-09-10T20:39:51.060642Z"
    },
    "papermill": {
     "duration": 0.016507,
     "end_time": "2023-09-10T20:39:51.065540",
     "exception": false,
     "start_time": "2023-09-10T20:39:51.049033",
     "status": "completed"
    },
    "tags": []
   },
   "outputs": [
    {
     "data": {
      "text/plain": [
       "3.3333333333333335"
      ]
     },
     "execution_count": 2,
     "metadata": {},
     "output_type": "execute_result"
    }
   ],
   "source": [
    "#This will convert 200 minutes to hours by diving by 60\n",
    "200/60"
   ]
  },
  {
   "cell_type": "markdown",
   "id": "eff9d20c",
   "metadata": {
    "papermill": {
     "duration": 0.003778,
     "end_time": "2023-09-10T20:39:51.073744",
     "exception": false,
     "start_time": "2023-09-10T20:39:51.069966",
     "status": "completed"
    },
    "tags": []
   },
   "source": [
    "Objectives:\n",
    "* List popular languages for Data Science\n",
    "* List popular libraries for Data Science\n",
    "* List of well know Data Science Tools\n",
    "* How to provide comment in the cell"
   ]
  },
  {
   "cell_type": "markdown",
   "id": "11c33d4c",
   "metadata": {
    "papermill": {
     "duration": 0.003671,
     "end_time": "2023-09-10T20:39:51.081312",
     "exception": false,
     "start_time": "2023-09-10T20:39:51.077641",
     "status": "completed"
    },
    "tags": []
   },
   "source": [
    "## Author\n",
    "Prashant"
   ]
  }
 ],
 "kernelspec": {
  "display_name": "Python 3",
  "language": "python",
  "name": "python3"
 },
 "language_info": {
  "codemirror_mode": {
   "name": "ipython",
   "version": 3
  },
  "file_extension": ".py",
  "mimetype": "text/x-python",
  "name": "python",
  "nbconvert_exporter": "python",
  "pygments_lexer": "ipython3",
  "version": "3.6.4"
 },
 "metadata": {
  "kernelspec": {
   "display_name": "Python 3",
   "language": "python",
   "name": "python3"
  },
  "language_info": {
   "codemirror_mode": {
    "name": "ipython",
    "version": 3
   },
   "file_extension": ".py",
   "mimetype": "text/x-python",
   "name": "python",
   "nbconvert_exporter": "python",
   "pygments_lexer": "ipython3",
   "version": "3.10.12"
  },
  "papermill": {
   "default_parameters": {},
   "duration": 3.673182,
   "end_time": "2023-09-10T20:39:51.510624",
   "environment_variables": {},
   "exception": null,
   "input_path": "__notebook__.ipynb",
   "output_path": "__notebook__.ipynb",
   "parameters": {},
   "start_time": "2023-09-10T20:39:47.837442",
   "version": "2.4.0"
  }
 },
 "nbformat": 4,
 "nbformat_minor": 5
}
